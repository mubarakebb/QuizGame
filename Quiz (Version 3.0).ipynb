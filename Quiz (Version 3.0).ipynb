{
 "cells": [
  {
   "cell_type": "markdown",
   "id": "2621f4ba-b841-4c3f-b265-650b4f534eab",
   "metadata": {},
   "source": [
    "Key Changes:\n",
    "Score Handling: Score is now returned and accumulated rather than using a global variable.\n",
    "Question Selection: Ensures each question is unique in a single game session.\n",
    "Error Handling: Improved how invalid inputs are handled by asking the question again."
   ]
  },
  {
   "cell_type": "code",
   "execution_count": 1,
   "id": "2011e4f9-24b6-4a5d-88f1-229a371340f2",
   "metadata": {},
   "outputs": [
    {
     "name": "stdout",
     "output_type": "stream",
     "text": [
      "\n",
      "Which of the following is used to define a function in Python?\n",
      "A: function\n",
      "B: void\n",
      "C: def\n",
      "D: define\n"
     ]
    },
    {
     "name": "stdin",
     "output_type": "stream",
     "text": [
      "Enter your Answer (i.e A/B/C/D):  C\n"
     ]
    },
    {
     "name": "stdout",
     "output_type": "stream",
     "text": [
      "Correct\n",
      "\n",
      "Which of the following is a loop structure in Python?\n",
      "A: if\n",
      "B: while\n",
      "C: def\n",
      "D: print\n"
     ]
    },
    {
     "name": "stdin",
     "output_type": "stream",
     "text": [
      "Enter your Answer (i.e A/B/C/D):  B\n"
     ]
    },
    {
     "name": "stdout",
     "output_type": "stream",
     "text": [
      "Correct\n",
      "\n",
      "Your Score Breakdown\n",
      "Final Score: 200\n"
     ]
    }
   ],
   "source": [
    "import random as rand\n",
    "\n",
    "### Question Section\n",
    "\n",
    "def ask_question(question, options, correct_option):\n",
    "    print(\"\\n\" + question)\n",
    "    for option in options:\n",
    "        print(option)\n",
    "    \n",
    "    answer = input(\"Enter your Answer (i.e A/B/C/D): \").upper()\n",
    "\n",
    "    if answer == correct_option:\n",
    "        print(\"Correct\")\n",
    "        return 100\n",
    "    elif answer in [\"A\", \"B\", \"C\", \"D\"]:\n",
    "        print(\"Incorrect\")\n",
    "        return 0\n",
    "    else:\n",
    "        print(\"\\nInvalid Input\")\n",
    "        print(\"You have entered an Invalid Option\")\n",
    "        return ask_question(question, options, correct_option)\n",
    "\n",
    "\n",
    "def que1():\n",
    "    return ask_question(\n",
    "        \"Which of the following is the correct way to declare a variable in Python?\",\n",
    "        [\"A: x = 10\", \"B: int x = 10;\", \"C: var x = 10;\", \"D: declare x = 10;\"],\n",
    "        \"A\"\n",
    "    )\n",
    "\n",
    "def que2():\n",
    "    return ask_question(\n",
    "        \"Which of the following is a loop structure in Python?\",\n",
    "        [\"A: if\", \"B: while\", \"C: def\", \"D: print\"],\n",
    "        \"B\"\n",
    "    )\n",
    "\n",
    "def que3():\n",
    "    return ask_question(\n",
    "        \"Which of the following is used to define a function in Python?\",\n",
    "        [\"A: function\", \"B: void\", \"C: def\", \"D: define\"],\n",
    "        \"C\"\n",
    "    )\n",
    "\n",
    "def que4():\n",
    "    return ask_question(\n",
    "        \"What is the purpose of the return statement in a function?\",\n",
    "        [\"A: It ends the program.\", \"B: It exits the loop\", \"C: It continues the loop\", \"D: It outputs a value from a function\"],\n",
    "        \"D\"\n",
    "    )\n",
    "\n",
    "def que5():\n",
    "    return ask_question(\n",
    "        \"Which of the following is the correct way to start a comment in Python?\",\n",
    "        [\"A: // This is a comment\", \"B: # This is a comment\", \"C: /* This is a comment */\", \"D: <!-- This is a comment -->\"],\n",
    "        \"B\"\n",
    "    )\n",
    "\n",
    "### Question Generator\n",
    "\n",
    "def que_generator(id):\n",
    "    if id == 1:\n",
    "        return que1()\n",
    "    elif id == 2:\n",
    "        return que2()\n",
    "    elif id == 3:\n",
    "        return que3()\n",
    "    elif id == 4:\n",
    "        return que4()\n",
    "    elif id == 5:\n",
    "        return que5()\n",
    "\n",
    "### Quiz Section\n",
    "\n",
    "def quiz_game():\n",
    "    score = 0\n",
    "    asked_questions = []\n",
    "\n",
    "    for i in range(2):  # Asking two questions\n",
    "        que_id = rand.randint(1, 5)\n",
    "        \n",
    "        while que_id in asked_questions:\n",
    "            que_id = rand.randint(1, 5)\n",
    "        \n",
    "        asked_questions.append(que_id)\n",
    "        score += que_generator(que_id)\n",
    "\n",
    "        if score == 0:\n",
    "            print(\"\\nGame Over ReStarting.........................\")\n",
    "            return quiz_game()\n",
    "\n",
    "    return score\n",
    "\n",
    "### Main Section\n",
    "\n",
    "total_score = quiz_game()\n",
    "print(\"\\nYour Score Breakdown\")\n",
    "print(f\"Final Score: {total_score}\")\n"
   ]
  },
  {
   "cell_type": "code",
   "execution_count": null,
   "id": "ab37539a-0836-4fdb-bf5b-a883d6065cef",
   "metadata": {},
   "outputs": [],
   "source": []
  }
 ],
 "metadata": {
  "kernelspec": {
   "display_name": "Python 3 (ipykernel)",
   "language": "python",
   "name": "python3"
  },
  "language_info": {
   "codemirror_mode": {
    "name": "ipython",
    "version": 3
   },
   "file_extension": ".py",
   "mimetype": "text/x-python",
   "name": "python",
   "nbconvert_exporter": "python",
   "pygments_lexer": "ipython3",
   "version": "3.11.7"
  }
 },
 "nbformat": 4,
 "nbformat_minor": 5
}
